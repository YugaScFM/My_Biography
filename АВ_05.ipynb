{
  "nbformat": 4,
  "nbformat_minor": 0,
  "metadata": {
    "colab": {
      "provenance": [],
      "authorship_tag": "ABX9TyM/LpAAwiGaGFl4AN/zSd8+",
      "include_colab_link": true
    },
    "kernelspec": {
      "name": "python3",
      "display_name": "Python 3"
    },
    "language_info": {
      "name": "python"
    }
  },
  "cells": [
    {
      "cell_type": "markdown",
      "metadata": {
        "id": "view-in-github",
        "colab_type": "text"
      },
      "source": [
        "<a href=\"https://colab.research.google.com/github/YugaScFM/My_Biography/blob/main/%D0%90%D0%92_05.ipynb\" target=\"_parent\"><img src=\"https://colab.research.google.com/assets/colab-badge.svg\" alt=\"Open In Colab\"/></a>"
      ]
    },
    {
      "cell_type": "markdown",
      "source": [],
      "metadata": {
        "id": "9ZBpmG-eI_L2"
      }
    },
    {
      "cell_type": "code",
      "source": [
        "import math\n",
        "import scipy.stats as stats\n",
        "\n",
        "# Данные\n",
        "n1 = 2000  # Количество пользователей в группе А\n",
        "n2 = 2000  # Количество пользователей в группе В\n",
        "p1 = 0.06  # Конверсия в группе А\n",
        "p2 = 0.075  # Конверсия в группе В\n",
        "\n",
        "# Количество покупок\n",
        "purchases_A = n1 * p1\n",
        "purchases_B = n2 * p2\n",
        "\n",
        "# Общая конверсия\n",
        "total_users = n1 + n2\n",
        "total_purchases = purchases_A + purchases_B\n",
        "p = total_purchases / total_users\n",
        "\n",
        "# Стандартное отклонение\n",
        "SE = math.sqrt(p * (1 - p) * (1/n1 + 1/n2))\n",
        "\n",
        "# z-статистика\n",
        "z = (p2 - p1) / SE\n",
        "\n",
        "# Критическое значение z для уровня значимости 0.05 (двусторонний тест)\n",
        "alpha = 0.05\n",
        "z_critical = stats.norm.ppf(1 - alpha/2)\n",
        "\n",
        "# Вычисление p-значения\n",
        "p_value = 2 * (1 - stats.norm.cdf(abs(z)))\n",
        "\n",
        "# Вывод результатов\n",
        "print(f\"z-статистика: {z:.4f}\")\n",
        "print(f\"Критическое значение z: ±{z_critical:.4f}\")\n",
        "print(f\"p-значение: {p_value:.4f}\")\n",
        "\n",
        "if abs(z) > z_critical:\n",
        "    print(\"Отвергаем нулевую гипотезу: конверсии различаются.\")\n",
        "else:\n",
        "    print(\"Не отвергаем нулевую гипотезу: конверсии не различаются.\")\n",
        "\n",
        "# Рекомендация\n",
        "if abs(z) > z_critical:\n",
        "    print(\"Рекомендуем оставить новую версию приложения.\")\n",
        "else:\n",
        "    print(\"Рекомендуем оставить старую версию приложения.\")"
      ],
      "metadata": {
        "colab": {
          "base_uri": "https://localhost:8080/"
        },
        "id": "UuyYrLd1LWWL",
        "outputId": "aecd8ae0-2aae-45d4-851a-9954fc216748"
      },
      "execution_count": 8,
      "outputs": [
        {
          "output_type": "stream",
          "name": "stdout",
          "text": [
            "z-статистика: 1.8907\n",
            "Критическое значение z: ±1.9600\n",
            "p-значение: 0.0587\n",
            "Не отвергаем нулевую гипотезу: конверсии не различаются.\n",
            "Рекомендуем оставить старую версию приложения.\n"
          ]
        }
      ]
    },
    {
      "cell_type": "markdown",
      "source": [],
      "metadata": {
        "id": "pr9Re746I8gX"
      }
    },
    {
      "cell_type": "code",
      "source": [
        "import math\n",
        "import scipy.stats as stats\n",
        "\n",
        "# Данные\n",
        "n1 = 1500  # Количество пользователей в группе A\n",
        "n2 = 1500  # Количество пользователей в группе B\n",
        "p1 = 90 / n1  # Конверсия в группе A\n",
        "p2 = 105 / n2  # Конверсия в группе B\n",
        "\n",
        "# Количество покупок\n",
        "purchases_A = n1 * p1\n",
        "purchases_B = n2 * p2\n",
        "\n",
        "# Общая конверсия\n",
        "total_users = n1 + n2\n",
        "total_purchases = purchases_A + purchases_B\n",
        "p = total_purchases / total_users\n",
        "\n",
        "# Стандартное отклонение\n",
        "SE = math.sqrt(p * (1 - p) * (1/n1 + 1/n2))\n",
        "\n",
        "# z-статистика\n",
        "z = (p2 - p1) / SE\n",
        "\n",
        "# Критическое значение z для уровня значимости 0.05 (двусторонний тест)\n",
        "alpha = 0.05\n",
        "z_critical = stats.norm.ppf(1 - alpha/2)\n",
        "\n",
        "# Вычисление p-значения\n",
        "p_value = 2 * (1 - stats.norm.cdf(abs(z)))\n",
        "\n",
        "# Вывод результатов\n",
        "print(f\"z-статистика: {z:.4f}\")\n",
        "print(f\"Критическое значение z: ±{z_critical:.4f}\")\n",
        "print(f\"p-значение: {p_value:.4f}\")\n",
        "\n",
        "if abs(z) > z_critical:\n",
        "    print(\"Отвергаем нулевую гипотезу: конверсии различаются.\")\n",
        "else:\n",
        "    print(\"Не отвергаем нулевую гипотезу: конверсии не различаются.\")\n",
        "\n",
        "# Рекомендация\n",
        "if abs(z) > z_critical:\n",
        "    print(\"Рекомендуем оставить баннер B.\")\n",
        "else:\n",
        "    print(\"Рекомендуем оставить баннер A.\")"
      ],
      "metadata": {
        "colab": {
          "base_uri": "https://localhost:8080/"
        },
        "id": "M4o3EGXkMoOF",
        "outputId": "3cdbd3cd-0e37-4dee-9b6c-67dcdf934268"
      },
      "execution_count": 10,
      "outputs": [
        {
          "output_type": "stream",
          "name": "stdout",
          "text": [
            "z-статистика: 1.1109\n",
            "Критическое значение z: ±1.9600\n",
            "p-значение: 0.2666\n",
            "Не отвергаем нулевую гипотезу: конверсии не различаются.\n",
            "Рекомендуем оставить баннер A.\n"
          ]
        }
      ]
    }
  ]
}